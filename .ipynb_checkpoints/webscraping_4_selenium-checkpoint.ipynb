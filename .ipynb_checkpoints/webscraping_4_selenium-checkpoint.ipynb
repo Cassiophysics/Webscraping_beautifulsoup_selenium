{
 "cells": [
  {
   "cell_type": "markdown",
   "id": "e2f58a23",
   "metadata": {},
   "source": [
    "# Web Scraping - 4 - Selenium"
   ]
  },
  {
   "cell_type": "code",
   "execution_count": 1,
   "id": "7381389b",
   "metadata": {},
   "outputs": [],
   "source": [
    "import selenium\n",
    "from selenium import webdriver as wb\n",
    "from selenium.webdriver.common.by import By\n",
    "import pandas as pd\n",
    "from time import sleep\n",
    "\n",
    "import warnings\n",
    "warnings.filterwarnings('ignore')\n",
    "# Configurações de visualização do dataset\n",
    "pd.set_option('display.max_columns', None)\n",
    "pd.set_option('display.max_rows', None)\n",
    "pd.set_option('display.width', None)\n",
    "pd.set_option('display.max_colwidth', 90)"
   ]
  },
  {
   "cell_type": "code",
   "execution_count": 2,
   "id": "e47e317a",
   "metadata": {},
   "outputs": [],
   "source": [
    "# Instância do WebDriver\n",
    "driver = wb.Chrome()\n",
    "driver.implicitly_wait(10)\n",
    "driver.get('https://webscraper.io/test-sites/e-commerce/static')"
   ]
  },
  {
   "cell_type": "code",
   "execution_count": 3,
   "id": "648e2859",
   "metadata": {},
   "outputs": [],
   "source": [
    "# Clica no botão de cookies\n",
    "driver.find_elements(By.CLASS_NAME, 'acceptCookies')[-1].click()"
   ]
  },
  {
   "cell_type": "code",
   "execution_count": 4,
   "id": "1848800d",
   "metadata": {},
   "outputs": [],
   "source": [
    "# Clica em Computers\n",
    "driver.find_element(By.XPATH, \"//*[@id='side-menu']/li[2]/a\").click()"
   ]
  },
  {
   "cell_type": "code",
   "execution_count": 5,
   "id": "b8feaa7a",
   "metadata": {},
   "outputs": [],
   "source": [
    "# Clica em Laptops\n",
    "driver.find_element(By.XPATH, \"//*[@id='side-menu']/li[2]/ul/li[1]/a\").click()"
   ]
  },
  {
   "cell_type": "code",
   "execution_count": 6,
   "id": "c2df2429",
   "metadata": {},
   "outputs": [
    {
     "name": "stdout",
     "output_type": "stream",
     "text": [
      "CPU times: user 741 ms, sys: 20.4 ms, total: 761 ms\n",
      "Wall time: 19 s\n"
     ]
    }
   ],
   "source": [
    "%%time\n",
    "\n",
    "# Scraping da páginas de Laptops\n",
    "\n",
    "laptops_links=[]\n",
    "condicao = True\n",
    "while condicao:\n",
    "    laptops = driver.find_elements(By.CLASS_NAME, 'thumbnail')\n",
    "    for itens in laptops:\n",
    "        obj1 = itens.find_elements(By.TAG_NAME, 'h4')[-1]\n",
    "        obj2 = obj1.find_element(By.TAG_NAME, 'a')\n",
    "        laptops_links.append(obj2.get_property('href'))\n",
    "    try:\n",
    "        \n",
    "        botao_next = driver.find_elements(By.CLASS_NAME, 'page-link')[-1]\n",
    "        if botao_next.get_attribute('aria-label'):\n",
    "            botao_next.click()\n",
    "        else:\n",
    "            condicao = False            \n",
    "    except:\n",
    "        condicao = False"
   ]
  },
  {
   "cell_type": "code",
   "execution_count": 7,
   "id": "a8c22048",
   "metadata": {},
   "outputs": [
    {
     "data": {
      "text/plain": [
       "117"
      ]
     },
     "execution_count": 7,
     "metadata": {},
     "output_type": "execute_result"
    }
   ],
   "source": [
    "len(laptops_links)"
   ]
  },
  {
   "cell_type": "code",
   "execution_count": 8,
   "id": "d2199426",
   "metadata": {},
   "outputs": [
    {
     "data": {
      "text/plain": [
       "['https://webscraper.io/test-sites/e-commerce/static/product/516',\n",
       " 'https://webscraper.io/test-sites/e-commerce/static/product/517',\n",
       " 'https://webscraper.io/test-sites/e-commerce/static/product/518',\n",
       " 'https://webscraper.io/test-sites/e-commerce/static/product/519',\n",
       " 'https://webscraper.io/test-sites/e-commerce/static/product/520',\n",
       " 'https://webscraper.io/test-sites/e-commerce/static/product/521',\n",
       " 'https://webscraper.io/test-sites/e-commerce/static/product/522',\n",
       " 'https://webscraper.io/test-sites/e-commerce/static/product/523',\n",
       " 'https://webscraper.io/test-sites/e-commerce/static/product/524',\n",
       " 'https://webscraper.io/test-sites/e-commerce/static/product/525',\n",
       " 'https://webscraper.io/test-sites/e-commerce/static/product/526',\n",
       " 'https://webscraper.io/test-sites/e-commerce/static/product/527',\n",
       " 'https://webscraper.io/test-sites/e-commerce/static/product/528',\n",
       " 'https://webscraper.io/test-sites/e-commerce/static/product/529',\n",
       " 'https://webscraper.io/test-sites/e-commerce/static/product/530',\n",
       " 'https://webscraper.io/test-sites/e-commerce/static/product/531',\n",
       " 'https://webscraper.io/test-sites/e-commerce/static/product/532',\n",
       " 'https://webscraper.io/test-sites/e-commerce/static/product/533',\n",
       " 'https://webscraper.io/test-sites/e-commerce/static/product/534',\n",
       " 'https://webscraper.io/test-sites/e-commerce/static/product/535',\n",
       " 'https://webscraper.io/test-sites/e-commerce/static/product/536',\n",
       " 'https://webscraper.io/test-sites/e-commerce/static/product/537',\n",
       " 'https://webscraper.io/test-sites/e-commerce/static/product/538',\n",
       " 'https://webscraper.io/test-sites/e-commerce/static/product/539',\n",
       " 'https://webscraper.io/test-sites/e-commerce/static/product/540',\n",
       " 'https://webscraper.io/test-sites/e-commerce/static/product/541',\n",
       " 'https://webscraper.io/test-sites/e-commerce/static/product/542',\n",
       " 'https://webscraper.io/test-sites/e-commerce/static/product/543',\n",
       " 'https://webscraper.io/test-sites/e-commerce/static/product/544',\n",
       " 'https://webscraper.io/test-sites/e-commerce/static/product/545',\n",
       " 'https://webscraper.io/test-sites/e-commerce/static/product/546',\n",
       " 'https://webscraper.io/test-sites/e-commerce/static/product/547',\n",
       " 'https://webscraper.io/test-sites/e-commerce/static/product/548',\n",
       " 'https://webscraper.io/test-sites/e-commerce/static/product/549',\n",
       " 'https://webscraper.io/test-sites/e-commerce/static/product/550',\n",
       " 'https://webscraper.io/test-sites/e-commerce/static/product/551',\n",
       " 'https://webscraper.io/test-sites/e-commerce/static/product/552',\n",
       " 'https://webscraper.io/test-sites/e-commerce/static/product/553',\n",
       " 'https://webscraper.io/test-sites/e-commerce/static/product/554',\n",
       " 'https://webscraper.io/test-sites/e-commerce/static/product/555',\n",
       " 'https://webscraper.io/test-sites/e-commerce/static/product/556',\n",
       " 'https://webscraper.io/test-sites/e-commerce/static/product/557',\n",
       " 'https://webscraper.io/test-sites/e-commerce/static/product/558',\n",
       " 'https://webscraper.io/test-sites/e-commerce/static/product/559',\n",
       " 'https://webscraper.io/test-sites/e-commerce/static/product/560',\n",
       " 'https://webscraper.io/test-sites/e-commerce/static/product/561',\n",
       " 'https://webscraper.io/test-sites/e-commerce/static/product/562',\n",
       " 'https://webscraper.io/test-sites/e-commerce/static/product/563',\n",
       " 'https://webscraper.io/test-sites/e-commerce/static/product/564',\n",
       " 'https://webscraper.io/test-sites/e-commerce/static/product/565',\n",
       " 'https://webscraper.io/test-sites/e-commerce/static/product/566',\n",
       " 'https://webscraper.io/test-sites/e-commerce/static/product/567',\n",
       " 'https://webscraper.io/test-sites/e-commerce/static/product/568',\n",
       " 'https://webscraper.io/test-sites/e-commerce/static/product/569',\n",
       " 'https://webscraper.io/test-sites/e-commerce/static/product/570',\n",
       " 'https://webscraper.io/test-sites/e-commerce/static/product/571',\n",
       " 'https://webscraper.io/test-sites/e-commerce/static/product/572',\n",
       " 'https://webscraper.io/test-sites/e-commerce/static/product/573',\n",
       " 'https://webscraper.io/test-sites/e-commerce/static/product/574',\n",
       " 'https://webscraper.io/test-sites/e-commerce/static/product/575',\n",
       " 'https://webscraper.io/test-sites/e-commerce/static/product/576',\n",
       " 'https://webscraper.io/test-sites/e-commerce/static/product/577',\n",
       " 'https://webscraper.io/test-sites/e-commerce/static/product/578',\n",
       " 'https://webscraper.io/test-sites/e-commerce/static/product/579',\n",
       " 'https://webscraper.io/test-sites/e-commerce/static/product/580',\n",
       " 'https://webscraper.io/test-sites/e-commerce/static/product/581',\n",
       " 'https://webscraper.io/test-sites/e-commerce/static/product/582',\n",
       " 'https://webscraper.io/test-sites/e-commerce/static/product/583',\n",
       " 'https://webscraper.io/test-sites/e-commerce/static/product/584',\n",
       " 'https://webscraper.io/test-sites/e-commerce/static/product/585',\n",
       " 'https://webscraper.io/test-sites/e-commerce/static/product/586',\n",
       " 'https://webscraper.io/test-sites/e-commerce/static/product/587',\n",
       " 'https://webscraper.io/test-sites/e-commerce/static/product/588',\n",
       " 'https://webscraper.io/test-sites/e-commerce/static/product/589',\n",
       " 'https://webscraper.io/test-sites/e-commerce/static/product/590',\n",
       " 'https://webscraper.io/test-sites/e-commerce/static/product/591',\n",
       " 'https://webscraper.io/test-sites/e-commerce/static/product/592',\n",
       " 'https://webscraper.io/test-sites/e-commerce/static/product/593',\n",
       " 'https://webscraper.io/test-sites/e-commerce/static/product/594',\n",
       " 'https://webscraper.io/test-sites/e-commerce/static/product/595',\n",
       " 'https://webscraper.io/test-sites/e-commerce/static/product/596',\n",
       " 'https://webscraper.io/test-sites/e-commerce/static/product/597',\n",
       " 'https://webscraper.io/test-sites/e-commerce/static/product/598',\n",
       " 'https://webscraper.io/test-sites/e-commerce/static/product/599',\n",
       " 'https://webscraper.io/test-sites/e-commerce/static/product/600',\n",
       " 'https://webscraper.io/test-sites/e-commerce/static/product/601',\n",
       " 'https://webscraper.io/test-sites/e-commerce/static/product/602',\n",
       " 'https://webscraper.io/test-sites/e-commerce/static/product/603',\n",
       " 'https://webscraper.io/test-sites/e-commerce/static/product/604',\n",
       " 'https://webscraper.io/test-sites/e-commerce/static/product/605',\n",
       " 'https://webscraper.io/test-sites/e-commerce/static/product/606',\n",
       " 'https://webscraper.io/test-sites/e-commerce/static/product/607',\n",
       " 'https://webscraper.io/test-sites/e-commerce/static/product/608',\n",
       " 'https://webscraper.io/test-sites/e-commerce/static/product/609',\n",
       " 'https://webscraper.io/test-sites/e-commerce/static/product/610',\n",
       " 'https://webscraper.io/test-sites/e-commerce/static/product/611',\n",
       " 'https://webscraper.io/test-sites/e-commerce/static/product/612',\n",
       " 'https://webscraper.io/test-sites/e-commerce/static/product/613',\n",
       " 'https://webscraper.io/test-sites/e-commerce/static/product/614',\n",
       " 'https://webscraper.io/test-sites/e-commerce/static/product/615',\n",
       " 'https://webscraper.io/test-sites/e-commerce/static/product/616',\n",
       " 'https://webscraper.io/test-sites/e-commerce/static/product/617',\n",
       " 'https://webscraper.io/test-sites/e-commerce/static/product/618',\n",
       " 'https://webscraper.io/test-sites/e-commerce/static/product/619',\n",
       " 'https://webscraper.io/test-sites/e-commerce/static/product/620',\n",
       " 'https://webscraper.io/test-sites/e-commerce/static/product/621',\n",
       " 'https://webscraper.io/test-sites/e-commerce/static/product/622',\n",
       " 'https://webscraper.io/test-sites/e-commerce/static/product/623',\n",
       " 'https://webscraper.io/test-sites/e-commerce/static/product/624',\n",
       " 'https://webscraper.io/test-sites/e-commerce/static/product/625',\n",
       " 'https://webscraper.io/test-sites/e-commerce/static/product/626',\n",
       " 'https://webscraper.io/test-sites/e-commerce/static/product/627',\n",
       " 'https://webscraper.io/test-sites/e-commerce/static/product/628',\n",
       " 'https://webscraper.io/test-sites/e-commerce/static/product/629',\n",
       " 'https://webscraper.io/test-sites/e-commerce/static/product/630',\n",
       " 'https://webscraper.io/test-sites/e-commerce/static/product/631',\n",
       " 'https://webscraper.io/test-sites/e-commerce/static/product/632']"
      ]
     },
     "execution_count": 8,
     "metadata": {},
     "output_type": "execute_result"
    }
   ],
   "source": [
    "laptops_links"
   ]
  },
  {
   "cell_type": "code",
   "execution_count": null,
   "id": "29a97607",
   "metadata": {},
   "outputs": [],
   "source": [
    "%%time\n",
    "\n",
    "nomes = []\n",
    "precos = []\n",
    "descricoes =[]\n",
    "reviews = []\n",
    "links = []\n",
    "\n",
    "for i in laptops_links:\n",
    "    driver.get(i)\n",
    "    \n",
    "    nome = driver.find_element(By.XPATH, '/html/body/div[1]/div[3]/div/div[2]/div/div/div[2]/div[1]/h4[2]').text\n",
    "    preco = driver.find_element(By.XPATH, '/html/body/div[1]/div[3]/div/div[2]/div/div/div[2]/div[1]/h4[1]').text\n",
    "    review = driver.find_element(By.XPATH, '/html/body/div[1]/div[3]/div/div[2]/div/div/div[2]/div[3]').text\n",
    "    descricao = driver.find_element(By.XPATH, '/html/body/div[1]/div[3]/div/div[2]/div/div/div[2]/div[1]/p').text\n",
    "    \n",
    "    nomes.append(nome)\n",
    "    precos.append(preco)\n",
    "    descricoes.append(descricao)\n",
    "    reviews.append(review)\n",
    "    links.append(i)"
   ]
  },
  {
   "cell_type": "code",
   "execution_count": null,
   "id": "4e329d83",
   "metadata": {},
   "outputs": [],
   "source": [
    "df_laptops = pd.DataFrame({'Nome': nomes, 'Preço': precos, 'Review': reviews, 'Descrição': descricoes, 'Link': links})"
   ]
  },
  {
   "cell_type": "code",
   "execution_count": null,
   "id": "a9f42d96",
   "metadata": {},
   "outputs": [],
   "source": [
    "df_laptops"
   ]
  },
  {
   "cell_type": "code",
   "execution_count": null,
   "id": "3d85da4c",
   "metadata": {},
   "outputs": [],
   "source": [
    "# Clica em Computers novamente\n",
    "driver.find_element(By.XPATH, \"//*[@id='side-menu']/li[2]/a\").click()"
   ]
  },
  {
   "cell_type": "code",
   "execution_count": null,
   "id": "55d60c4d",
   "metadata": {},
   "outputs": [],
   "source": [
    "# Clica em Tablets\n",
    "driver.find_element(By.XPATH, \"//*[@id='side-menu']/li[2]/ul/li[2]/a\").click()"
   ]
  },
  {
   "cell_type": "code",
   "execution_count": null,
   "id": "3e7915cc",
   "metadata": {},
   "outputs": [],
   "source": [
    "%%time\n",
    "\n",
    "# Scraping das páginas de Tablets\n",
    "\n",
    "tablets_links=[]\n",
    "condicao = True\n",
    "while condicao:\n",
    "    tablets = driver.find_elements(By.CLASS_NAME, 'thumbnail')\n",
    "    for itens in tablets:\n",
    "        obj1 = itens.find_elements(By.TAG_NAME, 'h4')[-1]\n",
    "        obj2 = obj1.find_element(By.TAG_NAME, 'a')\n",
    "        tablets_links.append(obj2.get_property('href'))\n",
    "    try:\n",
    "        \n",
    "        botao_next = driver.find_elements(By.CLASS_NAME, 'page-link')[-1]\n",
    "        if botao_next.get_attribute('aria-label'):\n",
    "            botao_next.click()\n",
    "        else:\n",
    "            condicao = False            \n",
    "    except:\n",
    "        condicao = False"
   ]
  },
  {
   "cell_type": "code",
   "execution_count": null,
   "id": "b8ff2d58",
   "metadata": {},
   "outputs": [],
   "source": [
    "len(tablets_links)"
   ]
  },
  {
   "cell_type": "code",
   "execution_count": null,
   "id": "e259d197",
   "metadata": {},
   "outputs": [],
   "source": [
    "tablets_links"
   ]
  },
  {
   "cell_type": "code",
   "execution_count": null,
   "id": "d29b4eef",
   "metadata": {},
   "outputs": [],
   "source": [
    "%%time\n",
    "\n",
    "nomes = []\n",
    "precos = []\n",
    "descricoes =[]\n",
    "reviews = []\n",
    "links = []\n",
    "\n",
    "for i in tablets_links:\n",
    "    driver.get(i)\n",
    "    \n",
    "    nome = driver.find_element(By.XPATH, '/html/body/div[1]/div[3]/div/div[2]/div/div/div[2]/div[1]/h4[2]').text\n",
    "    preco = driver.find_element(By.XPATH, '/html/body/div[1]/div[3]/div/div[2]/div/div/div[2]/div[1]/h4[1]').text\n",
    "    review = driver.find_element(By.XPATH, '/html/body/div[1]/div[3]/div/div[2]/div/div/div[2]/div[4]').text\n",
    "    descricao = driver.find_element(By.XPATH, '/html/body/div[1]/div[3]/div/div[2]/div/div/div[2]/div[1]/p').text\n",
    "    \n",
    "    nomes.append(nome)\n",
    "    precos.append(preco)\n",
    "    descricoes.append(descricao)\n",
    "    reviews.append(review)\n",
    "    links.append(i)"
   ]
  },
  {
   "cell_type": "code",
   "execution_count": null,
   "id": "d468075f",
   "metadata": {},
   "outputs": [],
   "source": [
    "# DataFrame\n",
    "df_tablets = pd.DataFrame({'Nome': nomes, 'Preço': precos, 'Review': reviews, 'Descrição': descricoes, 'Link': links})"
   ]
  },
  {
   "cell_type": "code",
   "execution_count": null,
   "id": "28010844",
   "metadata": {},
   "outputs": [],
   "source": [
    "df_tablets"
   ]
  },
  {
   "cell_type": "code",
   "execution_count": null,
   "id": "d008b039",
   "metadata": {},
   "outputs": [],
   "source": [
    "# Clica em Phones\n",
    "driver.find_element(By.XPATH, \"//*[@id='side-menu']/li[3]/a\").click()"
   ]
  },
  {
   "cell_type": "code",
   "execution_count": null,
   "id": "3a0c0f40",
   "metadata": {},
   "outputs": [],
   "source": [
    "# Clica em Touch\n",
    "driver.find_element(By.XPATH, \"//*[@id='side-menu']/li[3]/ul/li[1]/a\").click()"
   ]
  },
  {
   "cell_type": "code",
   "execution_count": null,
   "id": "58ebcd60",
   "metadata": {},
   "outputs": [],
   "source": [
    "%%time\n",
    "\n",
    "# Scraping das páginas de Touch\n",
    "\n",
    "touch_links = []\n",
    "condicao = True\n",
    "while condicao:\n",
    "    touchs = driver.find_elements(By.CLASS_NAME, 'thumbnail')\n",
    "    for itens in touchs:\n",
    "        obj1 = itens.find_elements(By.TAG_NAME, 'h4')[-1]\n",
    "        obj2 = obj1.find_element(By.TAG_NAME, 'a')\n",
    "        touch_links.append(obj2.get_property('href'))\n",
    "    try:\n",
    "        \n",
    "        botao_next = driver.find_elements(By.CLASS_NAME, 'page-link')[-1]\n",
    "        if botao_next.get_attribute('aria-label'):\n",
    "            botao_next.click()\n",
    "        else:\n",
    "            condicao = False            \n",
    "    except:\n",
    "        condicao = False"
   ]
  },
  {
   "cell_type": "code",
   "execution_count": null,
   "id": "48315843",
   "metadata": {},
   "outputs": [],
   "source": [
    "len(touch_links)"
   ]
  },
  {
   "cell_type": "code",
   "execution_count": null,
   "id": "77add4d8",
   "metadata": {},
   "outputs": [],
   "source": [
    "touch_links"
   ]
  },
  {
   "cell_type": "code",
   "execution_count": null,
   "id": "8fa05442",
   "metadata": {},
   "outputs": [],
   "source": [
    "%%time\n",
    "\n",
    "nomes = []\n",
    "precos = []\n",
    "descricoes =[]\n",
    "reviews = []\n",
    "links = []\n",
    "\n",
    "for i in touch_links:\n",
    "    driver.get(i)\n",
    "    \n",
    "    nome = driver.find_element(By.XPATH, '/html/body/div[1]/div[3]/div/div[2]/div/div/div[2]/div[1]/h4[2]').text\n",
    "    preco = driver.find_element(By.XPATH, '/html/body/div[1]/div[3]/div/div[2]/div/div/div[2]/div[1]/h4[1]').text\n",
    "    review = driver.find_element(By.XPATH, '/html/body/div[1]/div[3]/div/div[2]/div/div/div[2]/div[3]').text\n",
    "    descricao = driver.find_element(By.XPATH, '/html/body/div[1]/div[3]/div/div[2]/div/div/div[2]/div[1]/p').text\n",
    "    \n",
    "    nomes.append(nome)\n",
    "    precos.append(preco)\n",
    "    descricoes.append(descricao)\n",
    "    reviews.append(review)\n",
    "    links.append(i)"
   ]
  },
  {
   "cell_type": "code",
   "execution_count": null,
   "id": "a729189d",
   "metadata": {},
   "outputs": [],
   "source": [
    "# DataFrame\n",
    "df_touchs = pd.DataFrame({'Nome': nomes, 'Preço': precos, 'Review': reviews, 'Descrição': descricoes, 'Link': links})"
   ]
  },
  {
   "cell_type": "code",
   "execution_count": null,
   "id": "0cc3e1cc",
   "metadata": {},
   "outputs": [],
   "source": [
    "df_touchs"
   ]
  },
  {
   "cell_type": "code",
   "execution_count": null,
   "id": "3058dcba",
   "metadata": {},
   "outputs": [],
   "source": [
    "# Clica em Home\n",
    "driver.switch_to.default_content()\n",
    "driver.find_element(By.XPATH, \"//*[@id='side-menu']/li[1]/a\").click()"
   ]
  },
  {
   "cell_type": "code",
   "execution_count": null,
   "id": "ad6ce653",
   "metadata": {},
   "outputs": [],
   "source": [
    "# Fecha o WebDriver\n",
    "driver.quit()"
   ]
  },
  {
   "cell_type": "code",
   "execution_count": null,
   "id": "c1822e2e",
   "metadata": {},
   "outputs": [],
   "source": [
    "df = pd.concat([df_laptops, df_tablets, df_touchs])"
   ]
  },
  {
   "cell_type": "code",
   "execution_count": null,
   "id": "a0a82d6a",
   "metadata": {},
   "outputs": [],
   "source": [
    "df.reset_index(drop=True, inplace=True)"
   ]
  },
  {
   "cell_type": "code",
   "execution_count": null,
   "id": "bdefe1d1",
   "metadata": {},
   "outputs": [],
   "source": [
    "df"
   ]
  },
  {
   "cell_type": "code",
   "execution_count": null,
   "id": "b06cacd1",
   "metadata": {},
   "outputs": [],
   "source": [
    "# Salvar o DataFrame em formato CSV\n",
    "df.to_csv('webscraping_4_selenium')"
   ]
  }
 ],
 "metadata": {
  "kernelspec": {
   "display_name": "Python 3 (ipykernel)",
   "language": "python",
   "name": "python3"
  },
  "language_info": {
   "codemirror_mode": {
    "name": "ipython",
    "version": 3
   },
   "file_extension": ".py",
   "mimetype": "text/x-python",
   "name": "python",
   "nbconvert_exporter": "python",
   "pygments_lexer": "ipython3",
   "version": "3.7.13"
  }
 },
 "nbformat": 4,
 "nbformat_minor": 5
}
